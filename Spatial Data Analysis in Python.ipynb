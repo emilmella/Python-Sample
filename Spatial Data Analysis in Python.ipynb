{
 "cells": [
  {
   "cell_type": "code",
   "execution_count": 9,
   "id": "corrected-comedy",
   "metadata": {},
   "outputs": [],
   "source": [
    "#pip install libpysal"
   ]
  },
  {
   "cell_type": "code",
   "execution_count": 95,
   "id": "broad-running",
   "metadata": {},
   "outputs": [],
   "source": [
    "import numpy as np"
   ]
  },
  {
   "cell_type": "code",
   "execution_count": 96,
   "id": "pharmaceutical-portugal",
   "metadata": {},
   "outputs": [],
   "source": [
    "import libpysal as lps"
   ]
  },
  {
   "cell_type": "code",
   "execution_count": 97,
   "id": "stupid-amino",
   "metadata": {},
   "outputs": [],
   "source": [
    "import pandas as pd"
   ]
  },
  {
   "cell_type": "code",
   "execution_count": 98,
   "id": "protected-theme",
   "metadata": {},
   "outputs": [],
   "source": [
    "import geopandas as gpd"
   ]
  },
  {
   "cell_type": "code",
   "execution_count": 99,
   "id": "grand-graph",
   "metadata": {},
   "outputs": [],
   "source": [
    "import matplotlib.pyplot as plt"
   ]
  },
  {
   "cell_type": "code",
   "execution_count": 100,
   "id": "invisible-therapy",
   "metadata": {},
   "outputs": [],
   "source": [
    "from shapely.geometry import Point, Polygon"
   ]
  },
  {
   "cell_type": "code",
   "execution_count": 101,
   "id": "illegal-street",
   "metadata": {},
   "outputs": [],
   "source": [
    "import os"
   ]
  },
  {
   "cell_type": "code",
   "execution_count": 102,
   "id": "competitive-organization",
   "metadata": {},
   "outputs": [
    {
     "data": {
      "text/plain": [
       "'/Users/emilmella/Downloads/lab9_Spatial_Analysis_Python'"
      ]
     },
     "execution_count": 102,
     "metadata": {},
     "output_type": "execute_result"
    }
   ],
   "source": [
    "os.getcwd()"
   ]
  },
  {
   "cell_type": "code",
   "execution_count": 103,
   "id": "solid-limitation",
   "metadata": {},
   "outputs": [],
   "source": [
    "os.chdir(\"/Users/emilmella/Downloads/lab9_Spatial_Analysis_Python\")"
   ]
  },
  {
   "cell_type": "code",
   "execution_count": 104,
   "id": "heated-illinois",
   "metadata": {},
   "outputs": [],
   "source": [
    "flood = pd.read_csv(\"./mhhw_slosh_sample.csv\")\n",
    "asess = pd.read_csv(\"./oc_assessor_data.csv\")\n",
    "value = pd.read_csv(\"./prop_val_sample_oc.csv\")"
   ]
  },
  {
   "cell_type": "code",
   "execution_count": 105,
   "id": "sudden-christian",
   "metadata": {},
   "outputs": [
    {
     "data": {
      "text/html": [
       "<div>\n",
       "<style scoped>\n",
       "    .dataframe tbody tr th:only-of-type {\n",
       "        vertical-align: middle;\n",
       "    }\n",
       "\n",
       "    .dataframe tbody tr th {\n",
       "        vertical-align: top;\n",
       "    }\n",
       "\n",
       "    .dataframe thead th {\n",
       "        text-align: right;\n",
       "    }\n",
       "</style>\n",
       "<table border=\"1\" class=\"dataframe\">\n",
       "  <thead>\n",
       "    <tr style=\"text-align: right;\">\n",
       "      <th></th>\n",
       "      <th>id</th>\n",
       "      <th>c1_high</th>\n",
       "      <th>c2_high</th>\n",
       "      <th>c3_high</th>\n",
       "      <th>c4_high</th>\n",
       "      <th>water_diff</th>\n",
       "    </tr>\n",
       "  </thead>\n",
       "  <tbody>\n",
       "    <tr>\n",
       "      <th>0</th>\n",
       "      <td>1</td>\n",
       "      <td>1.4</td>\n",
       "      <td>3.7</td>\n",
       "      <td>13.8</td>\n",
       "      <td>18.0</td>\n",
       "      <td>-15.08371</td>\n",
       "    </tr>\n",
       "    <tr>\n",
       "      <th>1</th>\n",
       "      <td>2</td>\n",
       "      <td>1.4</td>\n",
       "      <td>3.7</td>\n",
       "      <td>13.8</td>\n",
       "      <td>18.0</td>\n",
       "      <td>-15.08371</td>\n",
       "    </tr>\n",
       "    <tr>\n",
       "      <th>2</th>\n",
       "      <td>3</td>\n",
       "      <td>99.9</td>\n",
       "      <td>99.9</td>\n",
       "      <td>4.6</td>\n",
       "      <td>9.1</td>\n",
       "      <td>22.71174</td>\n",
       "    </tr>\n",
       "    <tr>\n",
       "      <th>3</th>\n",
       "      <td>4</td>\n",
       "      <td>99.9</td>\n",
       "      <td>99.9</td>\n",
       "      <td>4.6</td>\n",
       "      <td>9.1</td>\n",
       "      <td>22.71174</td>\n",
       "    </tr>\n",
       "    <tr>\n",
       "      <th>4</th>\n",
       "      <td>5</td>\n",
       "      <td>99.9</td>\n",
       "      <td>99.9</td>\n",
       "      <td>4.6</td>\n",
       "      <td>9.1</td>\n",
       "      <td>22.71174</td>\n",
       "    </tr>\n",
       "  </tbody>\n",
       "</table>\n",
       "</div>"
      ],
      "text/plain": [
       "   id  c1_high  c2_high  c3_high  c4_high  water_diff\n",
       "0   1      1.4      3.7     13.8     18.0   -15.08371\n",
       "1   2      1.4      3.7     13.8     18.0   -15.08371\n",
       "2   3     99.9     99.9      4.6      9.1    22.71174\n",
       "3   4     99.9     99.9      4.6      9.1    22.71174\n",
       "4   5     99.9     99.9      4.6      9.1    22.71174"
      ]
     },
     "execution_count": 105,
     "metadata": {},
     "output_type": "execute_result"
    }
   ],
   "source": [
    "flood.head()"
   ]
  },
  {
   "cell_type": "code",
   "execution_count": 106,
   "id": "provincial-reverse",
   "metadata": {},
   "outputs": [
    {
     "data": {
      "text/html": [
       "<div>\n",
       "<style scoped>\n",
       "    .dataframe tbody tr th:only-of-type {\n",
       "        vertical-align: middle;\n",
       "    }\n",
       "\n",
       "    .dataframe tbody tr th {\n",
       "        vertical-align: top;\n",
       "    }\n",
       "\n",
       "    .dataframe thead th {\n",
       "        text-align: right;\n",
       "    }\n",
       "</style>\n",
       "<table border=\"1\" class=\"dataframe\">\n",
       "  <thead>\n",
       "    <tr style=\"text-align: right;\">\n",
       "      <th></th>\n",
       "      <th>fsid</th>\n",
       "      <th>tractfp</th>\n",
       "      <th>arealotacres</th>\n",
       "      <th>areabuilding</th>\n",
       "      <th>bedroomscount</th>\n",
       "      <th>yearbuilt</th>\n",
       "      <th>unitscount</th>\n",
       "      <th>beachprox</th>\n",
       "      <th>fld_zone</th>\n",
       "      <th>near_golf</th>\n",
       "      <th>singfam</th>\n",
       "      <th>x</th>\n",
       "      <th>y</th>\n",
       "    </tr>\n",
       "  </thead>\n",
       "  <tbody>\n",
       "    <tr>\n",
       "      <th>0</th>\n",
       "      <td>240472086092</td>\n",
       "      <td>24047950600</td>\n",
       "      <td>0.213728</td>\n",
       "      <td>1133</td>\n",
       "      <td>0</td>\n",
       "      <td>1984</td>\n",
       "      <td>1</td>\n",
       "      <td>1</td>\n",
       "      <td>AE</td>\n",
       "      <td>0</td>\n",
       "      <td>1</td>\n",
       "      <td>-75.138926</td>\n",
       "      <td>38.392017</td>\n",
       "    </tr>\n",
       "    <tr>\n",
       "      <th>1</th>\n",
       "      <td>240472086093</td>\n",
       "      <td>24047950600</td>\n",
       "      <td>0.223829</td>\n",
       "      <td>864</td>\n",
       "      <td>0</td>\n",
       "      <td>1978</td>\n",
       "      <td>1</td>\n",
       "      <td>0</td>\n",
       "      <td>X</td>\n",
       "      <td>1</td>\n",
       "      <td>1</td>\n",
       "      <td>-75.165920</td>\n",
       "      <td>38.382856</td>\n",
       "    </tr>\n",
       "    <tr>\n",
       "      <th>2</th>\n",
       "      <td>240472086097</td>\n",
       "      <td>24047951100</td>\n",
       "      <td>0.172176</td>\n",
       "      <td>1148</td>\n",
       "      <td>0</td>\n",
       "      <td>1990</td>\n",
       "      <td>1</td>\n",
       "      <td>0</td>\n",
       "      <td>X</td>\n",
       "      <td>0</td>\n",
       "      <td>1</td>\n",
       "      <td>-75.162869</td>\n",
       "      <td>38.366041</td>\n",
       "    </tr>\n",
       "    <tr>\n",
       "      <th>3</th>\n",
       "      <td>240472086099</td>\n",
       "      <td>24047950700</td>\n",
       "      <td>0.352479</td>\n",
       "      <td>2104</td>\n",
       "      <td>0</td>\n",
       "      <td>1999</td>\n",
       "      <td>1</td>\n",
       "      <td>0</td>\n",
       "      <td>X</td>\n",
       "      <td>1</td>\n",
       "      <td>1</td>\n",
       "      <td>-75.177478</td>\n",
       "      <td>38.395347</td>\n",
       "    </tr>\n",
       "    <tr>\n",
       "      <th>4</th>\n",
       "      <td>240472086101</td>\n",
       "      <td>24047950600</td>\n",
       "      <td>0.232140</td>\n",
       "      <td>1120</td>\n",
       "      <td>0</td>\n",
       "      <td>1975</td>\n",
       "      <td>1</td>\n",
       "      <td>1</td>\n",
       "      <td>X</td>\n",
       "      <td>0</td>\n",
       "      <td>1</td>\n",
       "      <td>-75.154435</td>\n",
       "      <td>38.396616</td>\n",
       "    </tr>\n",
       "  </tbody>\n",
       "</table>\n",
       "</div>"
      ],
      "text/plain": [
       "           fsid      tractfp  arealotacres  areabuilding  bedroomscount  \\\n",
       "0  240472086092  24047950600      0.213728          1133              0   \n",
       "1  240472086093  24047950600      0.223829           864              0   \n",
       "2  240472086097  24047951100      0.172176          1148              0   \n",
       "3  240472086099  24047950700      0.352479          2104              0   \n",
       "4  240472086101  24047950600      0.232140          1120              0   \n",
       "\n",
       "   yearbuilt  unitscount  beachprox fld_zone  near_golf  singfam          x  \\\n",
       "0       1984           1          1       AE          0        1 -75.138926   \n",
       "1       1978           1          0        X          1        1 -75.165920   \n",
       "2       1990           1          0        X          0        1 -75.162869   \n",
       "3       1999           1          0        X          1        1 -75.177478   \n",
       "4       1975           1          1        X          0        1 -75.154435   \n",
       "\n",
       "           y  \n",
       "0  38.392017  \n",
       "1  38.382856  \n",
       "2  38.366041  \n",
       "3  38.395347  \n",
       "4  38.396616  "
      ]
     },
     "execution_count": 106,
     "metadata": {},
     "output_type": "execute_result"
    }
   ],
   "source": [
    "asess.head()"
   ]
  },
  {
   "cell_type": "code",
   "execution_count": 107,
   "id": "featured-massage",
   "metadata": {},
   "outputs": [
    {
     "data": {
      "text/html": [
       "<div>\n",
       "<style scoped>\n",
       "    .dataframe tbody tr th:only-of-type {\n",
       "        vertical-align: middle;\n",
       "    }\n",
       "\n",
       "    .dataframe tbody tr th {\n",
       "        vertical-align: top;\n",
       "    }\n",
       "\n",
       "    .dataframe thead th {\n",
       "        text-align: right;\n",
       "    }\n",
       "</style>\n",
       "<table border=\"1\" class=\"dataframe\">\n",
       "  <thead>\n",
       "    <tr style=\"text-align: right;\">\n",
       "      <th></th>\n",
       "      <th>pr_sq_ft</th>\n",
       "      <th>fsid</th>\n",
       "      <th>saleyear</th>\n",
       "      <th>x</th>\n",
       "      <th>y</th>\n",
       "      <th>samp_pr05</th>\n",
       "    </tr>\n",
       "  </thead>\n",
       "  <tbody>\n",
       "    <tr>\n",
       "      <th>0</th>\n",
       "      <td>436.451898</td>\n",
       "      <td>240472086092</td>\n",
       "      <td>2005</td>\n",
       "      <td>-75.138926</td>\n",
       "      <td>38.392017</td>\n",
       "      <td>312.131985</td>\n",
       "    </tr>\n",
       "    <tr>\n",
       "      <th>1</th>\n",
       "      <td>436.451898</td>\n",
       "      <td>240472086092</td>\n",
       "      <td>2005</td>\n",
       "      <td>-75.138926</td>\n",
       "      <td>38.392017</td>\n",
       "      <td>312.131985</td>\n",
       "    </tr>\n",
       "    <tr>\n",
       "      <th>2</th>\n",
       "      <td>225.694444</td>\n",
       "      <td>240472086093</td>\n",
       "      <td>2006</td>\n",
       "      <td>-75.165920</td>\n",
       "      <td>38.382856</td>\n",
       "      <td>187.126827</td>\n",
       "    </tr>\n",
       "    <tr>\n",
       "      <th>3</th>\n",
       "      <td>124.710648</td>\n",
       "      <td>240472086093</td>\n",
       "      <td>2011</td>\n",
       "      <td>-75.165920</td>\n",
       "      <td>38.382856</td>\n",
       "      <td>187.126827</td>\n",
       "    </tr>\n",
       "    <tr>\n",
       "      <th>4</th>\n",
       "      <td>124.710648</td>\n",
       "      <td>240472086093</td>\n",
       "      <td>2011</td>\n",
       "      <td>-75.165920</td>\n",
       "      <td>38.382856</td>\n",
       "      <td>187.126827</td>\n",
       "    </tr>\n",
       "  </tbody>\n",
       "</table>\n",
       "</div>"
      ],
      "text/plain": [
       "     pr_sq_ft          fsid  saleyear          x          y   samp_pr05\n",
       "0  436.451898  240472086092      2005 -75.138926  38.392017  312.131985\n",
       "1  436.451898  240472086092      2005 -75.138926  38.392017  312.131985\n",
       "2  225.694444  240472086093      2006 -75.165920  38.382856  187.126827\n",
       "3  124.710648  240472086093      2011 -75.165920  38.382856  187.126827\n",
       "4  124.710648  240472086093      2011 -75.165920  38.382856  187.126827"
      ]
     },
     "execution_count": 107,
     "metadata": {},
     "output_type": "execute_result"
    }
   ],
   "source": [
    "value.head()"
   ]
  },
  {
   "cell_type": "code",
   "execution_count": 108,
   "id": "hairy-rocket",
   "metadata": {},
   "outputs": [],
   "source": [
    "working = pd.concat([flood, value], axis = 1)"
   ]
  },
  {
   "cell_type": "code",
   "execution_count": 109,
   "id": "egyptian-genome",
   "metadata": {},
   "outputs": [
    {
     "data": {
      "text/html": [
       "<div>\n",
       "<style scoped>\n",
       "    .dataframe tbody tr th:only-of-type {\n",
       "        vertical-align: middle;\n",
       "    }\n",
       "\n",
       "    .dataframe tbody tr th {\n",
       "        vertical-align: top;\n",
       "    }\n",
       "\n",
       "    .dataframe thead th {\n",
       "        text-align: right;\n",
       "    }\n",
       "</style>\n",
       "<table border=\"1\" class=\"dataframe\">\n",
       "  <thead>\n",
       "    <tr style=\"text-align: right;\">\n",
       "      <th></th>\n",
       "      <th>id</th>\n",
       "      <th>c1_high</th>\n",
       "      <th>c2_high</th>\n",
       "      <th>c3_high</th>\n",
       "      <th>c4_high</th>\n",
       "      <th>water_diff</th>\n",
       "      <th>pr_sq_ft</th>\n",
       "      <th>fsid</th>\n",
       "      <th>saleyear</th>\n",
       "      <th>x</th>\n",
       "      <th>y</th>\n",
       "      <th>samp_pr05</th>\n",
       "    </tr>\n",
       "  </thead>\n",
       "  <tbody>\n",
       "    <tr>\n",
       "      <th>0</th>\n",
       "      <td>1</td>\n",
       "      <td>1.4</td>\n",
       "      <td>3.7</td>\n",
       "      <td>13.8</td>\n",
       "      <td>18.0</td>\n",
       "      <td>-15.08371</td>\n",
       "      <td>436.451898</td>\n",
       "      <td>240472086092</td>\n",
       "      <td>2005</td>\n",
       "      <td>-75.138926</td>\n",
       "      <td>38.392017</td>\n",
       "      <td>312.131985</td>\n",
       "    </tr>\n",
       "    <tr>\n",
       "      <th>1</th>\n",
       "      <td>2</td>\n",
       "      <td>1.4</td>\n",
       "      <td>3.7</td>\n",
       "      <td>13.8</td>\n",
       "      <td>18.0</td>\n",
       "      <td>-15.08371</td>\n",
       "      <td>436.451898</td>\n",
       "      <td>240472086092</td>\n",
       "      <td>2005</td>\n",
       "      <td>-75.138926</td>\n",
       "      <td>38.392017</td>\n",
       "      <td>312.131985</td>\n",
       "    </tr>\n",
       "    <tr>\n",
       "      <th>2</th>\n",
       "      <td>3</td>\n",
       "      <td>99.9</td>\n",
       "      <td>99.9</td>\n",
       "      <td>4.6</td>\n",
       "      <td>9.1</td>\n",
       "      <td>22.71174</td>\n",
       "      <td>225.694444</td>\n",
       "      <td>240472086093</td>\n",
       "      <td>2006</td>\n",
       "      <td>-75.165920</td>\n",
       "      <td>38.382856</td>\n",
       "      <td>187.126827</td>\n",
       "    </tr>\n",
       "    <tr>\n",
       "      <th>3</th>\n",
       "      <td>4</td>\n",
       "      <td>99.9</td>\n",
       "      <td>99.9</td>\n",
       "      <td>4.6</td>\n",
       "      <td>9.1</td>\n",
       "      <td>22.71174</td>\n",
       "      <td>124.710648</td>\n",
       "      <td>240472086093</td>\n",
       "      <td>2011</td>\n",
       "      <td>-75.165920</td>\n",
       "      <td>38.382856</td>\n",
       "      <td>187.126827</td>\n",
       "    </tr>\n",
       "    <tr>\n",
       "      <th>4</th>\n",
       "      <td>5</td>\n",
       "      <td>99.9</td>\n",
       "      <td>99.9</td>\n",
       "      <td>4.6</td>\n",
       "      <td>9.1</td>\n",
       "      <td>22.71174</td>\n",
       "      <td>124.710648</td>\n",
       "      <td>240472086093</td>\n",
       "      <td>2011</td>\n",
       "      <td>-75.165920</td>\n",
       "      <td>38.382856</td>\n",
       "      <td>187.126827</td>\n",
       "    </tr>\n",
       "  </tbody>\n",
       "</table>\n",
       "</div>"
      ],
      "text/plain": [
       "   id  c1_high  c2_high  c3_high  c4_high  water_diff    pr_sq_ft  \\\n",
       "0   1      1.4      3.7     13.8     18.0   -15.08371  436.451898   \n",
       "1   2      1.4      3.7     13.8     18.0   -15.08371  436.451898   \n",
       "2   3     99.9     99.9      4.6      9.1    22.71174  225.694444   \n",
       "3   4     99.9     99.9      4.6      9.1    22.71174  124.710648   \n",
       "4   5     99.9     99.9      4.6      9.1    22.71174  124.710648   \n",
       "\n",
       "           fsid  saleyear          x          y   samp_pr05  \n",
       "0  240472086092      2005 -75.138926  38.392017  312.131985  \n",
       "1  240472086092      2005 -75.138926  38.392017  312.131985  \n",
       "2  240472086093      2006 -75.165920  38.382856  187.126827  \n",
       "3  240472086093      2011 -75.165920  38.382856  187.126827  \n",
       "4  240472086093      2011 -75.165920  38.382856  187.126827  "
      ]
     },
     "execution_count": 109,
     "metadata": {},
     "output_type": "execute_result"
    }
   ],
   "source": [
    "working.head()"
   ]
  },
  {
   "cell_type": "code",
   "execution_count": 110,
   "id": "entitled-fluid",
   "metadata": {},
   "outputs": [],
   "source": [
    "full = working.merge(asess, on='fsid', how='left')"
   ]
  },
  {
   "cell_type": "code",
   "execution_count": 111,
   "id": "white-comedy",
   "metadata": {},
   "outputs": [
    {
     "data": {
      "text/html": [
       "<div>\n",
       "<style scoped>\n",
       "    .dataframe tbody tr th:only-of-type {\n",
       "        vertical-align: middle;\n",
       "    }\n",
       "\n",
       "    .dataframe tbody tr th {\n",
       "        vertical-align: top;\n",
       "    }\n",
       "\n",
       "    .dataframe thead th {\n",
       "        text-align: right;\n",
       "    }\n",
       "</style>\n",
       "<table border=\"1\" class=\"dataframe\">\n",
       "  <thead>\n",
       "    <tr style=\"text-align: right;\">\n",
       "      <th></th>\n",
       "      <th>id</th>\n",
       "      <th>c1_high</th>\n",
       "      <th>c2_high</th>\n",
       "      <th>c3_high</th>\n",
       "      <th>c4_high</th>\n",
       "      <th>water_diff</th>\n",
       "      <th>pr_sq_ft</th>\n",
       "      <th>fsid</th>\n",
       "      <th>saleyear</th>\n",
       "      <th>x_x</th>\n",
       "      <th>...</th>\n",
       "      <th>areabuilding</th>\n",
       "      <th>bedroomscount</th>\n",
       "      <th>yearbuilt</th>\n",
       "      <th>unitscount</th>\n",
       "      <th>beachprox</th>\n",
       "      <th>fld_zone</th>\n",
       "      <th>near_golf</th>\n",
       "      <th>singfam</th>\n",
       "      <th>x_y</th>\n",
       "      <th>y_y</th>\n",
       "    </tr>\n",
       "  </thead>\n",
       "  <tbody>\n",
       "    <tr>\n",
       "      <th>0</th>\n",
       "      <td>1</td>\n",
       "      <td>1.4</td>\n",
       "      <td>3.7</td>\n",
       "      <td>13.8</td>\n",
       "      <td>18.0</td>\n",
       "      <td>-15.08371</td>\n",
       "      <td>436.451898</td>\n",
       "      <td>240472086092</td>\n",
       "      <td>2005</td>\n",
       "      <td>-75.138926</td>\n",
       "      <td>...</td>\n",
       "      <td>1133</td>\n",
       "      <td>0</td>\n",
       "      <td>1984</td>\n",
       "      <td>1</td>\n",
       "      <td>1</td>\n",
       "      <td>AE</td>\n",
       "      <td>0</td>\n",
       "      <td>1</td>\n",
       "      <td>-75.138926</td>\n",
       "      <td>38.392017</td>\n",
       "    </tr>\n",
       "    <tr>\n",
       "      <th>1</th>\n",
       "      <td>2</td>\n",
       "      <td>1.4</td>\n",
       "      <td>3.7</td>\n",
       "      <td>13.8</td>\n",
       "      <td>18.0</td>\n",
       "      <td>-15.08371</td>\n",
       "      <td>436.451898</td>\n",
       "      <td>240472086092</td>\n",
       "      <td>2005</td>\n",
       "      <td>-75.138926</td>\n",
       "      <td>...</td>\n",
       "      <td>1133</td>\n",
       "      <td>0</td>\n",
       "      <td>1984</td>\n",
       "      <td>1</td>\n",
       "      <td>1</td>\n",
       "      <td>AE</td>\n",
       "      <td>0</td>\n",
       "      <td>1</td>\n",
       "      <td>-75.138926</td>\n",
       "      <td>38.392017</td>\n",
       "    </tr>\n",
       "    <tr>\n",
       "      <th>2</th>\n",
       "      <td>3</td>\n",
       "      <td>99.9</td>\n",
       "      <td>99.9</td>\n",
       "      <td>4.6</td>\n",
       "      <td>9.1</td>\n",
       "      <td>22.71174</td>\n",
       "      <td>225.694444</td>\n",
       "      <td>240472086093</td>\n",
       "      <td>2006</td>\n",
       "      <td>-75.165920</td>\n",
       "      <td>...</td>\n",
       "      <td>864</td>\n",
       "      <td>0</td>\n",
       "      <td>1978</td>\n",
       "      <td>1</td>\n",
       "      <td>0</td>\n",
       "      <td>X</td>\n",
       "      <td>1</td>\n",
       "      <td>1</td>\n",
       "      <td>-75.165920</td>\n",
       "      <td>38.382856</td>\n",
       "    </tr>\n",
       "    <tr>\n",
       "      <th>3</th>\n",
       "      <td>4</td>\n",
       "      <td>99.9</td>\n",
       "      <td>99.9</td>\n",
       "      <td>4.6</td>\n",
       "      <td>9.1</td>\n",
       "      <td>22.71174</td>\n",
       "      <td>124.710648</td>\n",
       "      <td>240472086093</td>\n",
       "      <td>2011</td>\n",
       "      <td>-75.165920</td>\n",
       "      <td>...</td>\n",
       "      <td>864</td>\n",
       "      <td>0</td>\n",
       "      <td>1978</td>\n",
       "      <td>1</td>\n",
       "      <td>0</td>\n",
       "      <td>X</td>\n",
       "      <td>1</td>\n",
       "      <td>1</td>\n",
       "      <td>-75.165920</td>\n",
       "      <td>38.382856</td>\n",
       "    </tr>\n",
       "    <tr>\n",
       "      <th>4</th>\n",
       "      <td>5</td>\n",
       "      <td>99.9</td>\n",
       "      <td>99.9</td>\n",
       "      <td>4.6</td>\n",
       "      <td>9.1</td>\n",
       "      <td>22.71174</td>\n",
       "      <td>124.710648</td>\n",
       "      <td>240472086093</td>\n",
       "      <td>2011</td>\n",
       "      <td>-75.165920</td>\n",
       "      <td>...</td>\n",
       "      <td>864</td>\n",
       "      <td>0</td>\n",
       "      <td>1978</td>\n",
       "      <td>1</td>\n",
       "      <td>0</td>\n",
       "      <td>X</td>\n",
       "      <td>1</td>\n",
       "      <td>1</td>\n",
       "      <td>-75.165920</td>\n",
       "      <td>38.382856</td>\n",
       "    </tr>\n",
       "  </tbody>\n",
       "</table>\n",
       "<p>5 rows × 24 columns</p>\n",
       "</div>"
      ],
      "text/plain": [
       "   id  c1_high  c2_high  c3_high  c4_high  water_diff    pr_sq_ft  \\\n",
       "0   1      1.4      3.7     13.8     18.0   -15.08371  436.451898   \n",
       "1   2      1.4      3.7     13.8     18.0   -15.08371  436.451898   \n",
       "2   3     99.9     99.9      4.6      9.1    22.71174  225.694444   \n",
       "3   4     99.9     99.9      4.6      9.1    22.71174  124.710648   \n",
       "4   5     99.9     99.9      4.6      9.1    22.71174  124.710648   \n",
       "\n",
       "           fsid  saleyear        x_x  ...  areabuilding  bedroomscount  \\\n",
       "0  240472086092      2005 -75.138926  ...          1133              0   \n",
       "1  240472086092      2005 -75.138926  ...          1133              0   \n",
       "2  240472086093      2006 -75.165920  ...           864              0   \n",
       "3  240472086093      2011 -75.165920  ...           864              0   \n",
       "4  240472086093      2011 -75.165920  ...           864              0   \n",
       "\n",
       "   yearbuilt  unitscount  beachprox  fld_zone  near_golf  singfam        x_y  \\\n",
       "0       1984           1          1        AE          0        1 -75.138926   \n",
       "1       1984           1          1        AE          0        1 -75.138926   \n",
       "2       1978           1          0         X          1        1 -75.165920   \n",
       "3       1978           1          0         X          1        1 -75.165920   \n",
       "4       1978           1          0         X          1        1 -75.165920   \n",
       "\n",
       "         y_y  \n",
       "0  38.392017  \n",
       "1  38.392017  \n",
       "2  38.382856  \n",
       "3  38.382856  \n",
       "4  38.382856  \n",
       "\n",
       "[5 rows x 24 columns]"
      ]
     },
     "execution_count": 111,
     "metadata": {},
     "output_type": "execute_result"
    }
   ],
   "source": [
    "full.head()"
   ]
  },
  {
   "cell_type": "code",
   "execution_count": 112,
   "id": "constant-alliance",
   "metadata": {},
   "outputs": [],
   "source": [
    "spatial_pts = [Point(xy) for xy in zip(full[\"x_x\"], full[\"y_x\"])]"
   ]
  },
  {
   "cell_type": "code",
   "execution_count": 113,
   "id": "convinced-census",
   "metadata": {},
   "outputs": [
    {
     "data": {
      "text/plain": [
       "[<shapely.geometry.point.Point at 0x7fc4d7d31e20>,\n",
       " <shapely.geometry.point.Point at 0x7fc3ce9b2d60>,\n",
       " <shapely.geometry.point.Point at 0x7fc3d1cd4490>,\n",
       " <shapely.geometry.point.Point at 0x7fc3ce7fcca0>,\n",
       " <shapely.geometry.point.Point at 0x7fc3ce7fc490>]"
      ]
     },
     "execution_count": 113,
     "metadata": {},
     "output_type": "execute_result"
    }
   ],
   "source": [
    "spatial_pts[:5]"
   ]
  },
  {
   "cell_type": "code",
   "execution_count": 114,
   "id": "collect-threshold",
   "metadata": {},
   "outputs": [
    {
     "data": {
      "text/plain": [
       "4086"
      ]
     },
     "execution_count": 114,
     "metadata": {},
     "output_type": "execute_result"
    }
   ],
   "source": [
    "len(full)"
   ]
  },
  {
   "cell_type": "code",
   "execution_count": 115,
   "id": "adapted-english",
   "metadata": {},
   "outputs": [
    {
     "data": {
      "text/plain": [
       "4086"
      ]
     },
     "execution_count": 115,
     "metadata": {},
     "output_type": "execute_result"
    }
   ],
   "source": [
    "len(spatial_pts)"
   ]
  },
  {
   "cell_type": "code",
   "execution_count": 116,
   "id": "relevant-society",
   "metadata": {},
   "outputs": [],
   "source": [
    "crs = 'epsg:4326'"
   ]
  },
  {
   "cell_type": "code",
   "execution_count": 117,
   "id": "forbidden-usage",
   "metadata": {},
   "outputs": [],
   "source": [
    "full_sp = gpd.GeoDataFrame(full, \n",
    "                           crs = crs, \n",
    "                           geometry = spatial_pts)"
   ]
  },
  {
   "cell_type": "code",
   "execution_count": 118,
   "id": "convinced-finish",
   "metadata": {},
   "outputs": [
    {
     "data": {
      "text/html": [
       "<div>\n",
       "<style scoped>\n",
       "    .dataframe tbody tr th:only-of-type {\n",
       "        vertical-align: middle;\n",
       "    }\n",
       "\n",
       "    .dataframe tbody tr th {\n",
       "        vertical-align: top;\n",
       "    }\n",
       "\n",
       "    .dataframe thead th {\n",
       "        text-align: right;\n",
       "    }\n",
       "</style>\n",
       "<table border=\"1\" class=\"dataframe\">\n",
       "  <thead>\n",
       "    <tr style=\"text-align: right;\">\n",
       "      <th></th>\n",
       "      <th>id</th>\n",
       "      <th>c1_high</th>\n",
       "      <th>c2_high</th>\n",
       "      <th>c3_high</th>\n",
       "      <th>c4_high</th>\n",
       "      <th>water_diff</th>\n",
       "      <th>pr_sq_ft</th>\n",
       "      <th>fsid</th>\n",
       "      <th>saleyear</th>\n",
       "      <th>x_x</th>\n",
       "      <th>...</th>\n",
       "      <th>bedroomscount</th>\n",
       "      <th>yearbuilt</th>\n",
       "      <th>unitscount</th>\n",
       "      <th>beachprox</th>\n",
       "      <th>fld_zone</th>\n",
       "      <th>near_golf</th>\n",
       "      <th>singfam</th>\n",
       "      <th>x_y</th>\n",
       "      <th>y_y</th>\n",
       "      <th>geometry</th>\n",
       "    </tr>\n",
       "  </thead>\n",
       "  <tbody>\n",
       "    <tr>\n",
       "      <th>0</th>\n",
       "      <td>1</td>\n",
       "      <td>1.4</td>\n",
       "      <td>3.7</td>\n",
       "      <td>13.8</td>\n",
       "      <td>18.0</td>\n",
       "      <td>-15.08371</td>\n",
       "      <td>436.451898</td>\n",
       "      <td>240472086092</td>\n",
       "      <td>2005</td>\n",
       "      <td>-75.138926</td>\n",
       "      <td>...</td>\n",
       "      <td>0</td>\n",
       "      <td>1984</td>\n",
       "      <td>1</td>\n",
       "      <td>1</td>\n",
       "      <td>AE</td>\n",
       "      <td>0</td>\n",
       "      <td>1</td>\n",
       "      <td>-75.138926</td>\n",
       "      <td>38.392017</td>\n",
       "      <td>POINT (-75.13893 38.39202)</td>\n",
       "    </tr>\n",
       "    <tr>\n",
       "      <th>1</th>\n",
       "      <td>2</td>\n",
       "      <td>1.4</td>\n",
       "      <td>3.7</td>\n",
       "      <td>13.8</td>\n",
       "      <td>18.0</td>\n",
       "      <td>-15.08371</td>\n",
       "      <td>436.451898</td>\n",
       "      <td>240472086092</td>\n",
       "      <td>2005</td>\n",
       "      <td>-75.138926</td>\n",
       "      <td>...</td>\n",
       "      <td>0</td>\n",
       "      <td>1984</td>\n",
       "      <td>1</td>\n",
       "      <td>1</td>\n",
       "      <td>AE</td>\n",
       "      <td>0</td>\n",
       "      <td>1</td>\n",
       "      <td>-75.138926</td>\n",
       "      <td>38.392017</td>\n",
       "      <td>POINT (-75.13893 38.39202)</td>\n",
       "    </tr>\n",
       "    <tr>\n",
       "      <th>2</th>\n",
       "      <td>3</td>\n",
       "      <td>99.9</td>\n",
       "      <td>99.9</td>\n",
       "      <td>4.6</td>\n",
       "      <td>9.1</td>\n",
       "      <td>22.71174</td>\n",
       "      <td>225.694444</td>\n",
       "      <td>240472086093</td>\n",
       "      <td>2006</td>\n",
       "      <td>-75.165920</td>\n",
       "      <td>...</td>\n",
       "      <td>0</td>\n",
       "      <td>1978</td>\n",
       "      <td>1</td>\n",
       "      <td>0</td>\n",
       "      <td>X</td>\n",
       "      <td>1</td>\n",
       "      <td>1</td>\n",
       "      <td>-75.165920</td>\n",
       "      <td>38.382856</td>\n",
       "      <td>POINT (-75.16592 38.38286)</td>\n",
       "    </tr>\n",
       "    <tr>\n",
       "      <th>3</th>\n",
       "      <td>4</td>\n",
       "      <td>99.9</td>\n",
       "      <td>99.9</td>\n",
       "      <td>4.6</td>\n",
       "      <td>9.1</td>\n",
       "      <td>22.71174</td>\n",
       "      <td>124.710648</td>\n",
       "      <td>240472086093</td>\n",
       "      <td>2011</td>\n",
       "      <td>-75.165920</td>\n",
       "      <td>...</td>\n",
       "      <td>0</td>\n",
       "      <td>1978</td>\n",
       "      <td>1</td>\n",
       "      <td>0</td>\n",
       "      <td>X</td>\n",
       "      <td>1</td>\n",
       "      <td>1</td>\n",
       "      <td>-75.165920</td>\n",
       "      <td>38.382856</td>\n",
       "      <td>POINT (-75.16592 38.38286)</td>\n",
       "    </tr>\n",
       "    <tr>\n",
       "      <th>4</th>\n",
       "      <td>5</td>\n",
       "      <td>99.9</td>\n",
       "      <td>99.9</td>\n",
       "      <td>4.6</td>\n",
       "      <td>9.1</td>\n",
       "      <td>22.71174</td>\n",
       "      <td>124.710648</td>\n",
       "      <td>240472086093</td>\n",
       "      <td>2011</td>\n",
       "      <td>-75.165920</td>\n",
       "      <td>...</td>\n",
       "      <td>0</td>\n",
       "      <td>1978</td>\n",
       "      <td>1</td>\n",
       "      <td>0</td>\n",
       "      <td>X</td>\n",
       "      <td>1</td>\n",
       "      <td>1</td>\n",
       "      <td>-75.165920</td>\n",
       "      <td>38.382856</td>\n",
       "      <td>POINT (-75.16592 38.38286)</td>\n",
       "    </tr>\n",
       "  </tbody>\n",
       "</table>\n",
       "<p>5 rows × 25 columns</p>\n",
       "</div>"
      ],
      "text/plain": [
       "   id  c1_high  c2_high  c3_high  c4_high  water_diff    pr_sq_ft  \\\n",
       "0   1      1.4      3.7     13.8     18.0   -15.08371  436.451898   \n",
       "1   2      1.4      3.7     13.8     18.0   -15.08371  436.451898   \n",
       "2   3     99.9     99.9      4.6      9.1    22.71174  225.694444   \n",
       "3   4     99.9     99.9      4.6      9.1    22.71174  124.710648   \n",
       "4   5     99.9     99.9      4.6      9.1    22.71174  124.710648   \n",
       "\n",
       "           fsid  saleyear        x_x  ...  bedroomscount  yearbuilt  \\\n",
       "0  240472086092      2005 -75.138926  ...              0       1984   \n",
       "1  240472086092      2005 -75.138926  ...              0       1984   \n",
       "2  240472086093      2006 -75.165920  ...              0       1978   \n",
       "3  240472086093      2011 -75.165920  ...              0       1978   \n",
       "4  240472086093      2011 -75.165920  ...              0       1978   \n",
       "\n",
       "   unitscount  beachprox  fld_zone  near_golf  singfam        x_y        y_y  \\\n",
       "0           1          1        AE          0        1 -75.138926  38.392017   \n",
       "1           1          1        AE          0        1 -75.138926  38.392017   \n",
       "2           1          0         X          1        1 -75.165920  38.382856   \n",
       "3           1          0         X          1        1 -75.165920  38.382856   \n",
       "4           1          0         X          1        1 -75.165920  38.382856   \n",
       "\n",
       "                     geometry  \n",
       "0  POINT (-75.13893 38.39202)  \n",
       "1  POINT (-75.13893 38.39202)  \n",
       "2  POINT (-75.16592 38.38286)  \n",
       "3  POINT (-75.16592 38.38286)  \n",
       "4  POINT (-75.16592 38.38286)  \n",
       "\n",
       "[5 rows x 25 columns]"
      ]
     },
     "execution_count": 118,
     "metadata": {},
     "output_type": "execute_result"
    }
   ],
   "source": [
    "full_sp.head()"
   ]
  },
  {
   "cell_type": "code",
   "execution_count": 119,
   "id": "mediterranean-school",
   "metadata": {},
   "outputs": [
    {
     "data": {
      "text/plain": [
       "<AxesSubplot:>"
      ]
     },
     "execution_count": 119,
     "metadata": {},
     "output_type": "execute_result"
    },
    {
     "data": {
      "image/png": "[encoded data removed]",
      "text/plain": [
       "<Figure size 432x288 with 1 Axes>"
      ]
     },
     "metadata": {
      "needs_background": "light"
     },
     "output_type": "display_data"
    }
   ],
   "source": [
    "full_sp.plot()"
   ]
  },
  {
   "cell_type": "code",
   "execution_count": 120,
   "id": "suburban-chart",
   "metadata": {},
   "outputs": [
    {
     "data": {
      "text/plain": [
       "<AxesSubplot:>"
      ]
     },
     "execution_count": 120,
     "metadata": {},
     "output_type": "execute_result"
    },
    {
     "data": {
      "image/png": "[encoded data removed]",
      "text/plain": [
       "<Figure size 432x288 with 1 Axes>"
      ]
     },
     "metadata": {
      "needs_background": "light"
     },
     "output_type": "display_data"
    }
   ],
   "source": [
    "full_sp.plot(column = 'pr_sq_ft')"
   ]
  },
  {
   "cell_type": "code",
   "execution_count": 121,
   "id": "contained-feature",
   "metadata": {},
   "outputs": [
    {
     "data": {
      "text/plain": [
       "<AxesSubplot:>"
      ]
     },
     "execution_count": 121,
     "metadata": {},
     "output_type": "execute_result"
    },
    {
     "data": {
      "image/png": "[encoded data removed]",
      "text/plain": [
       "<Figure size 432x288 with 2 Axes>"
      ]
     },
     "metadata": {
      "needs_background": "light"
     },
     "output_type": "display_data"
    }
   ],
   "source": [
    "fig, ax = plt.subplots(1,1)\n",
    "full_sp.plot(column = 'pr_sq_ft',\n",
    "            ax=ax, legend = True)"
   ]
  },
  {
   "cell_type": "code",
   "execution_count": 122,
   "id": "valued-fairy",
   "metadata": {
    "scrolled": true
   },
   "outputs": [
    {
     "data": {
      "text/plain": [
       "<AxesSubplot:>"
      ]
     },
     "execution_count": 122,
     "metadata": {},
     "output_type": "execute_result"
    },
    {
     "data": {
      "image/png": "[encoded data removed]",
      "text/plain": [
       "<Figure size 432x288 with 2 Axes>"
      ]
     },
     "metadata": {
      "needs_background": "light"
     },
     "output_type": "display_data"
    }
   ],
   "source": [
    "fig, ax = plt.subplots(1,1)\n",
    "full_sp.plot(column = 'pr_sq_ft',\n",
    "            ax=ax, \n",
    "            legend = True,\n",
    "            cmap = 'OrRd', \n",
    "            legend_kwds = {'label':\"Price per Square Foot\",\n",
    "                          'orientation':\"horizontal\"})"
   ]
  },
  {
   "cell_type": "code",
   "execution_count": 123,
   "id": "expired-father",
   "metadata": {
    "scrolled": false
   },
   "outputs": [
    {
     "name": "stdout",
     "output_type": "stream",
     "text": [
      "Requirement already satisfied: scikit-gstat in /Users/emilmella/opt/anaconda3/envs/Lab2_AdvGIS/lib/python3.8/site-packages (0.5.2)\n",
      "Requirement already satisfied: pandas in /Users/emilmella/opt/anaconda3/envs/Lab2_AdvGIS/lib/python3.8/site-packages (from scikit-gstat) (1.2.2)\n",
      "Requirement already satisfied: scipy in /Users/emilmella/opt/anaconda3/envs/Lab2_AdvGIS/lib/python3.8/site-packages (from scikit-gstat) (1.6.0)\n",
      "Requirement already satisfied: numpy in /Users/emilmella/opt/anaconda3/envs/Lab2_AdvGIS/lib/python3.8/site-packages (from scikit-gstat) (1.19.2)\n",
      "Requirement already satisfied: numba in /Users/emilmella/opt/anaconda3/envs/Lab2_AdvGIS/lib/python3.8/site-packages (from scikit-gstat) (0.53.1)\n",
      "Requirement already satisfied: scikit-learn in /Users/emilmella/opt/anaconda3/envs/Lab2_AdvGIS/lib/python3.8/site-packages (from scikit-gstat) (0.23.2)\n",
      "Requirement already satisfied: matplotlib in /Users/emilmella/opt/anaconda3/envs/Lab2_AdvGIS/lib/python3.8/site-packages (from scikit-gstat) (3.3.4)\n",
      "Requirement already satisfied: pillow>=6.2.0 in /Users/emilmella/opt/anaconda3/envs/Lab2_AdvGIS/lib/python3.8/site-packages (from matplotlib->scikit-gstat) (8.1.0)\n",
      "Requirement already satisfied: python-dateutil>=2.1 in /Users/emilmella/opt/anaconda3/envs/Lab2_AdvGIS/lib/python3.8/site-packages (from matplotlib->scikit-gstat) (2.8.1)\n",
      "Requirement already satisfied: kiwisolver>=1.0.1 in /Users/emilmella/opt/anaconda3/envs/Lab2_AdvGIS/lib/python3.8/site-packages (from matplotlib->scikit-gstat) (1.3.1)\n",
      "Requirement already satisfied: cycler>=0.10 in /Users/emilmella/opt/anaconda3/envs/Lab2_AdvGIS/lib/python3.8/site-packages (from matplotlib->scikit-gstat) (0.10.0)\n",
      "Requirement already satisfied: pyparsing!=2.0.4,!=2.1.2,!=2.1.6,>=2.0.3 in /Users/emilmella/opt/anaconda3/envs/Lab2_AdvGIS/lib/python3.8/site-packages (from matplotlib->scikit-gstat) (2.4.7)\n",
      "Requirement already satisfied: six in /Users/emilmella/opt/anaconda3/envs/Lab2_AdvGIS/lib/python3.8/site-packages (from cycler>=0.10->matplotlib->scikit-gstat) (1.15.0)\n",
      "Requirement already satisfied: llvmlite<0.37,>=0.36.0rc1 in /Users/emilmella/opt/anaconda3/envs/Lab2_AdvGIS/lib/python3.8/site-packages (from numba->scikit-gstat) (0.36.0)\n",
      "Requirement already satisfied: setuptools in /Users/emilmella/opt/anaconda3/envs/Lab2_AdvGIS/lib/python3.8/site-packages (from numba->scikit-gstat) (52.0.0.post20210125)\n",
      "Requirement already satisfied: pytz>=2017.3 in /Users/emilmella/opt/anaconda3/envs/Lab2_AdvGIS/lib/python3.8/site-packages (from pandas->scikit-gstat) (2021.1)\n",
      "Requirement already satisfied: threadpoolctl>=2.0.0 in /Users/emilmella/opt/anaconda3/envs/Lab2_AdvGIS/lib/python3.8/site-packages (from scikit-learn->scikit-gstat) (2.1.0)\n",
      "Requirement already satisfied: joblib>=0.11 in /Users/emilmella/opt/anaconda3/envs/Lab2_AdvGIS/lib/python3.8/site-packages (from scikit-learn->scikit-gstat) (1.0.1)\n",
      "Note: you may need to restart the kernel to use updated packages.\n"
     ]
    }
   ],
   "source": [
    "pip install scikit-gstat"
   ]
  },
  {
   "cell_type": "code",
   "execution_count": 124,
   "id": "funded-inquiry",
   "metadata": {
    "scrolled": true
   },
   "outputs": [],
   "source": [
    "import skgstat as skg"
   ]
  },
  {
   "cell_type": "code",
   "execution_count": 125,
   "id": "frozen-chuck",
   "metadata": {},
   "outputs": [],
   "source": [
    "coords = full_sp[['x_x', 'y_x']]"
   ]
  },
  {
   "cell_type": "code",
   "execution_count": 126,
   "id": "happy-nation",
   "metadata": {},
   "outputs": [
    {
     "data": {
      "text/plain": [
       "4086"
      ]
     },
     "execution_count": 126,
     "metadata": {},
     "output_type": "execute_result"
    }
   ],
   "source": [
    "len(coords)"
   ]
  },
  {
   "cell_type": "code",
   "execution_count": 127,
   "id": "western-alias",
   "metadata": {},
   "outputs": [
    {
     "data": {
      "text/plain": [
       "4086"
      ]
     },
     "execution_count": 127,
     "metadata": {},
     "output_type": "execute_result"
    }
   ],
   "source": [
    "len(full_sp.pr_sq_ft)"
   ]
  },
  {
   "cell_type": "code",
   "execution_count": 128,
   "id": "annoying-backing",
   "metadata": {},
   "outputs": [],
   "source": [
    "V = skg.Variogram(coords, full_sp.pr_sq_ft, normalize=True, \n",
    "                  n_lags = 10, maxlag=0.5 , bin_func = 'uniform' , \n",
    "                  verbose = True ,use_nugget = True)"
   ]
  },
  {
   "cell_type": "code",
   "execution_count": 129,
   "id": "protected-birthday",
   "metadata": {},
   "outputs": [
    {
     "name": "stderr",
     "output_type": "stream",
     "text": [
      "/Users/emilmella/opt/anaconda3/envs/Lab2_AdvGIS/lib/python3.8/site-packages/skgstat/plotting/variogram_plot.py:96: UserWarning: Matplotlib is currently using module://ipykernel.pylab.backend_inline, which is a non-GUI backend, so cannot show the figure.\n",
      "  fig.show()\n"
     ]
    },
    {
     "data": {
      "image/png": "[encoded data removed]",
      "text/plain": [
       "<Figure size 576x360 with 2 Axes>"
      ]
     },
     "execution_count": 129,
     "metadata": {},
     "output_type": "execute_result"
    },
    {
     "data": {
      "image/png": "[encoded data removed]",
      "text/plain": [
       "<Figure size 576x360 with 2 Axes>"
      ]
     },
     "metadata": {
      "needs_background": "light"
     },
     "output_type": "display_data"
    }
   ],
   "source": [
    "V.plot()"
   ]
  },
  {
   "cell_type": "code",
   "execution_count": 130,
   "id": "upset-genome",
   "metadata": {
    "scrolled": false
   },
   "outputs": [
    {
     "name": "stdout",
     "output_type": "stream",
     "text": [
      "spherical Variogram\n",
      "-------------------\n",
      "Estimator:         matheron\n",
      "        \r",
      "Effective Range:   0.16\n",
      "        \r",
      "Sill:              2458.80\n",
      "        \r",
      "Nugget:            3154.77\n",
      "        \n"
     ]
    }
   ],
   "source": [
    "print(V)"
   ]
  },
  {
   "cell_type": "code",
   "execution_count": 131,
   "id": "greenhouse-castle",
   "metadata": {},
   "outputs": [],
   "source": [
    "range_dist = lps.weights.DistanceBand.from_dataframe(full_sp, threshold = 0.162)"
   ]
  },
  {
   "cell_type": "code",
   "execution_count": 132,
   "id": "cubic-campaign",
   "metadata": {},
   "outputs": [],
   "source": [
    "price = full_sp.pr_sq_ft"
   ]
  },
  {
   "cell_type": "code",
   "execution_count": 133,
   "id": "changed-insider",
   "metadata": {},
   "outputs": [],
   "source": [
    "#pip install esda"
   ]
  },
  {
   "cell_type": "code",
   "execution_count": 134,
   "id": "convertible-lucas",
   "metadata": {},
   "outputs": [],
   "source": [
    "from esda.moran import Moran"
   ]
  },
  {
   "cell_type": "code",
   "execution_count": 135,
   "id": "developmental-covering",
   "metadata": {},
   "outputs": [],
   "source": [
    "moran = Moran(price, range_dist)"
   ]
  },
  {
   "cell_type": "code",
   "execution_count": 136,
   "id": "divine-access",
   "metadata": {},
   "outputs": [
    {
     "data": {
      "text/plain": [
       "0.0026950855075168257"
      ]
     },
     "execution_count": 136,
     "metadata": {},
     "output_type": "execute_result"
    }
   ],
   "source": [
    "moran.I"
   ]
  },
  {
   "cell_type": "code",
   "execution_count": 137,
   "id": "egyptian-membership",
   "metadata": {},
   "outputs": [
    {
     "name": "stdout",
     "output_type": "stream",
     "text": [
      "Requirement already satisfied: splot in /Users/emilmella/opt/anaconda3/envs/Lab2_AdvGIS/lib/python3.8/site-packages (1.1.3)\n",
      "Requirement already satisfied: spreg in /Users/emilmella/opt/anaconda3/envs/Lab2_AdvGIS/lib/python3.8/site-packages (from splot) (1.2.2)\n",
      "Requirement already satisfied: libpysal in /Users/emilmella/opt/anaconda3/envs/Lab2_AdvGIS/lib/python3.8/site-packages (from splot) (4.4.0)\n",
      "Requirement already satisfied: seaborn in /Users/emilmella/opt/anaconda3/envs/Lab2_AdvGIS/lib/python3.8/site-packages (from splot) (0.11.1)\n",
      "Requirement already satisfied: descartes in /Users/emilmella/opt/anaconda3/envs/Lab2_AdvGIS/lib/python3.8/site-packages (from splot) (1.1.0)\n",
      "Requirement already satisfied: numpy in /Users/emilmella/opt/anaconda3/envs/Lab2_AdvGIS/lib/python3.8/site-packages (from splot) (1.19.2)\n",
      "Requirement already satisfied: geopandas>=0.4.0 in /Users/emilmella/opt/anaconda3/envs/Lab2_AdvGIS/lib/python3.8/site-packages (from splot) (0.6.1)\n",
      "Requirement already satisfied: mapclassify in /Users/emilmella/opt/anaconda3/envs/Lab2_AdvGIS/lib/python3.8/site-packages (from splot) (2.4.2)\n",
      "Requirement already satisfied: esda in /Users/emilmella/opt/anaconda3/envs/Lab2_AdvGIS/lib/python3.8/site-packages (from splot) (2.3.6)\n",
      "Requirement already satisfied: giddy in /Users/emilmella/opt/anaconda3/envs/Lab2_AdvGIS/lib/python3.8/site-packages (from splot) (2.3.3)\n",
      "Requirement already satisfied: matplotlib in /Users/emilmella/opt/anaconda3/envs/Lab2_AdvGIS/lib/python3.8/site-packages (from splot) (3.3.4)\n",
      "Requirement already satisfied: fiona in /Users/emilmella/opt/anaconda3/envs/Lab2_AdvGIS/lib/python3.8/site-packages (from geopandas>=0.4.0->splot) (1.8.4)\n",
      "Requirement already satisfied: pyproj in /Users/emilmella/opt/anaconda3/envs/Lab2_AdvGIS/lib/python3.8/site-packages (from geopandas>=0.4.0->splot) (1.9.6)\n",
      "Requirement already satisfied: shapely in /Users/emilmella/opt/anaconda3/envs/Lab2_AdvGIS/lib/python3.8/site-packages (from geopandas>=0.4.0->splot) (1.6.4.post1)\n",
      "Requirement already satisfied: pandas>=0.23.0 in /Users/emilmella/opt/anaconda3/envs/Lab2_AdvGIS/lib/python3.8/site-packages (from geopandas>=0.4.0->splot) (1.2.2)\n",
      "Requirement already satisfied: python-dateutil>=2.7.3 in /Users/emilmella/opt/anaconda3/envs/Lab2_AdvGIS/lib/python3.8/site-packages (from pandas>=0.23.0->geopandas>=0.4.0->splot) (2.8.1)\n",
      "Requirement already satisfied: pytz>=2017.3 in /Users/emilmella/opt/anaconda3/envs/Lab2_AdvGIS/lib/python3.8/site-packages (from pandas>=0.23.0->geopandas>=0.4.0->splot) (2021.1)\n",
      "Requirement already satisfied: six>=1.5 in /Users/emilmella/opt/anaconda3/envs/Lab2_AdvGIS/lib/python3.8/site-packages (from python-dateutil>=2.7.3->pandas>=0.23.0->geopandas>=0.4.0->splot) (1.15.0)\n",
      "Requirement already satisfied: scipy>=0.11 in /Users/emilmella/opt/anaconda3/envs/Lab2_AdvGIS/lib/python3.8/site-packages (from esda->splot) (1.6.0)\n",
      "Requirement already satisfied: scikit-learn in /Users/emilmella/opt/anaconda3/envs/Lab2_AdvGIS/lib/python3.8/site-packages (from esda->splot) (0.23.2)\n",
      "Requirement already satisfied: attrs>=17 in /Users/emilmella/opt/anaconda3/envs/Lab2_AdvGIS/lib/python3.8/site-packages (from fiona->geopandas>=0.4.0->splot) (20.3.0)\n",
      "Requirement already satisfied: click<8,>=4.0 in /Users/emilmella/opt/anaconda3/envs/Lab2_AdvGIS/lib/python3.8/site-packages (from fiona->geopandas>=0.4.0->splot) (7.1.2)\n",
      "Requirement already satisfied: cligj>=0.5 in /Users/emilmella/opt/anaconda3/envs/Lab2_AdvGIS/lib/python3.8/site-packages (from fiona->geopandas>=0.4.0->splot) (0.7.1)\n",
      "Requirement already satisfied: click-plugins>=1.0 in /Users/emilmella/opt/anaconda3/envs/Lab2_AdvGIS/lib/python3.8/site-packages (from fiona->geopandas>=0.4.0->splot) (1.1.1)\n",
      "Requirement already satisfied: munch in /Users/emilmella/opt/anaconda3/envs/Lab2_AdvGIS/lib/python3.8/site-packages (from fiona->geopandas>=0.4.0->splot) (2.5.0)\n",
      "Requirement already satisfied: quantecon>=0.4.7 in /Users/emilmella/opt/anaconda3/envs/Lab2_AdvGIS/lib/python3.8/site-packages (from giddy->splot) (0.5.0)\n",
      "Requirement already satisfied: beautifulsoup4 in /Users/emilmella/opt/anaconda3/envs/Lab2_AdvGIS/lib/python3.8/site-packages (from libpysal->splot) (4.9.3)\n",
      "Requirement already satisfied: requests in /Users/emilmella/opt/anaconda3/envs/Lab2_AdvGIS/lib/python3.8/site-packages (from libpysal->splot) (2.25.1)\n",
      "Requirement already satisfied: jinja2 in /Users/emilmella/opt/anaconda3/envs/Lab2_AdvGIS/lib/python3.8/site-packages (from libpysal->splot) (2.11.3)\n",
      "Requirement already satisfied: networkx in /Users/emilmella/opt/anaconda3/envs/Lab2_AdvGIS/lib/python3.8/site-packages (from mapclassify->splot) (2.5)\n",
      "Requirement already satisfied: numba>=0.38 in /Users/emilmella/opt/anaconda3/envs/Lab2_AdvGIS/lib/python3.8/site-packages (from quantecon>=0.4.7->giddy->splot) (0.53.1)\n",
      "Requirement already satisfied: sympy in /Users/emilmella/opt/anaconda3/envs/Lab2_AdvGIS/lib/python3.8/site-packages (from quantecon>=0.4.7->giddy->splot) (1.8)\n",
      "Requirement already satisfied: llvmlite<0.37,>=0.36.0rc1 in /Users/emilmella/opt/anaconda3/envs/Lab2_AdvGIS/lib/python3.8/site-packages (from numba>=0.38->quantecon>=0.4.7->giddy->splot) (0.36.0)\n",
      "Requirement already satisfied: setuptools in /Users/emilmella/opt/anaconda3/envs/Lab2_AdvGIS/lib/python3.8/site-packages (from numba>=0.38->quantecon>=0.4.7->giddy->splot) (52.0.0.post20210125)\n",
      "Requirement already satisfied: soupsieve>1.2 in /Users/emilmella/opt/anaconda3/envs/Lab2_AdvGIS/lib/python3.8/site-packages (from beautifulsoup4->libpysal->splot) (2.1)\n",
      "Requirement already satisfied: MarkupSafe>=0.23 in /Users/emilmella/opt/anaconda3/envs/Lab2_AdvGIS/lib/python3.8/site-packages (from jinja2->libpysal->splot) (1.1.1)\n",
      "Requirement already satisfied: cycler>=0.10 in /Users/emilmella/opt/anaconda3/envs/Lab2_AdvGIS/lib/python3.8/site-packages (from matplotlib->splot) (0.10.0)\n",
      "Requirement already satisfied: pyparsing!=2.0.4,!=2.1.2,!=2.1.6,>=2.0.3 in /Users/emilmella/opt/anaconda3/envs/Lab2_AdvGIS/lib/python3.8/site-packages (from matplotlib->splot) (2.4.7)\n",
      "Requirement already satisfied: kiwisolver>=1.0.1 in /Users/emilmella/opt/anaconda3/envs/Lab2_AdvGIS/lib/python3.8/site-packages (from matplotlib->splot) (1.3.1)\n",
      "Requirement already satisfied: pillow>=6.2.0 in /Users/emilmella/opt/anaconda3/envs/Lab2_AdvGIS/lib/python3.8/site-packages (from matplotlib->splot) (8.1.0)\n",
      "Requirement already satisfied: decorator>=4.3.0 in /Users/emilmella/opt/anaconda3/envs/Lab2_AdvGIS/lib/python3.8/site-packages (from networkx->mapclassify->splot) (4.4.2)\n",
      "Requirement already satisfied: chardet<5,>=3.0.2 in /Users/emilmella/opt/anaconda3/envs/Lab2_AdvGIS/lib/python3.8/site-packages (from requests->libpysal->splot) (4.0.0)\n",
      "Requirement already satisfied: idna<3,>=2.5 in /Users/emilmella/opt/anaconda3/envs/Lab2_AdvGIS/lib/python3.8/site-packages (from requests->libpysal->splot) (2.10)\n",
      "Requirement already satisfied: certifi>=2017.4.17 in /Users/emilmella/opt/anaconda3/envs/Lab2_AdvGIS/lib/python3.8/site-packages (from requests->libpysal->splot) (2020.12.5)\n",
      "Requirement already satisfied: urllib3<1.27,>=1.21.1 in /Users/emilmella/opt/anaconda3/envs/Lab2_AdvGIS/lib/python3.8/site-packages (from requests->libpysal->splot) (1.26.3)\n",
      "Requirement already satisfied: joblib>=0.11 in /Users/emilmella/opt/anaconda3/envs/Lab2_AdvGIS/lib/python3.8/site-packages (from scikit-learn->esda->splot) (1.0.1)\n",
      "Requirement already satisfied: threadpoolctl>=2.0.0 in /Users/emilmella/opt/anaconda3/envs/Lab2_AdvGIS/lib/python3.8/site-packages (from scikit-learn->esda->splot) (2.1.0)\n",
      "Requirement already satisfied: mpmath>=0.19 in /Users/emilmella/opt/anaconda3/envs/Lab2_AdvGIS/lib/python3.8/site-packages (from sympy->quantecon>=0.4.7->giddy->splot) (1.2.1)\n",
      "Note: you may need to restart the kernel to use updated packages.\n"
     ]
    }
   ],
   "source": [
    "pip install splot"
   ]
  },
  {
   "cell_type": "code",
   "execution_count": 138,
   "id": "complicated-opinion",
   "metadata": {},
   "outputs": [],
   "source": [
    "from splot.esda import moran_scatterplot"
   ]
  },
  {
   "cell_type": "code",
   "execution_count": 139,
   "id": "combined-bryan",
   "metadata": {},
   "outputs": [
    {
     "data": {
      "image/png": "[encoded data removed]",
      "text/plain": [
       "<Figure size 504x504 with 1 Axes>"
      ]
     },
     "metadata": {
      "needs_background": "light"
     },
     "output_type": "display_data"
    }
   ],
   "source": [
    "fig, ax = moran_scatterplot(moran, aspect_equal=True)\n",
    "plt.show()"
   ]
  },
  {
   "cell_type": "code",
   "execution_count": 140,
   "id": "seventh-delta",
   "metadata": {},
   "outputs": [],
   "source": [
    "from splot.esda import plot_moran"
   ]
  },
  {
   "cell_type": "code",
   "execution_count": 141,
   "id": "synthetic-settlement",
   "metadata": {},
   "outputs": [
    {
     "data": {
      "image/png": "[encoded data removed]",
      "text/plain": [
       "<Figure size 720x288 with 2 Axes>"
      ]
     },
     "metadata": {
      "needs_background": "light"
     },
     "output_type": "display_data"
    }
   ],
   "source": [
    "plot_moran(moran, zstandard=True, figsize=(10,4))\n",
    "plt.show()"
   ]
  },
  {
   "cell_type": "code",
   "execution_count": 142,
   "id": "cross-lotus",
   "metadata": {},
   "outputs": [
    {
     "data": {
      "text/plain": [
       "0.001"
      ]
     },
     "execution_count": 142,
     "metadata": {},
     "output_type": "execute_result"
    }
   ],
   "source": [
    "moran.p_sim"
   ]
  },
  {
   "cell_type": "code",
   "execution_count": 143,
   "id": "capable-proceeding",
   "metadata": {},
   "outputs": [],
   "source": [
    "from esda.moran import Moran_Local"
   ]
  },
  {
   "cell_type": "code",
   "execution_count": null,
   "id": "industrial-boring",
   "metadata": {},
   "outputs": [],
   "source": [
    "moran_loc = Moran_Local(price, range_dist)"
   ]
  },
  {
   "cell_type": "code",
   "execution_count": null,
   "id": "proved-guinea",
   "metadata": {},
   "outputs": [],
   "source": [
    "fig, ax = moran_scatterplot(moran_loc)\n",
    "ax.set_xlabel('Price')\n",
    "ax.set_ylabel('Spatial Lag of Price')\n",
    "plt.show()"
   ]
  },
  {
   "cell_type": "code",
   "execution_count": null,
   "id": "baking-lending",
   "metadata": {},
   "outputs": [],
   "source": [
    "fig, ax = moran_scatterplot(moran_loc, p = 0.05)\n",
    "ax.set_xlabel('Price')\n",
    "ax.set_ylabel('Spatial Lag of Price')\n",
    "plt.show()"
   ]
  },
  {
   "cell_type": "code",
   "execution_count": null,
   "id": "level-husband",
   "metadata": {},
   "outputs": [],
   "source": [
    "from splot.esda import lisa_cluster"
   ]
  },
  {
   "cell_type": "code",
   "execution_count": null,
   "id": "alpha-packing",
   "metadata": {},
   "outputs": [],
   "source": [
    "lisa_cluster(moran_loc, full_sp, p=0.05, figsize = (9,9))\n",
    "plt.show()"
   ]
  },
  {
   "cell_type": "code",
   "execution_count": null,
   "id": "cathedral-nepal",
   "metadata": {},
   "outputs": [],
   "source": [
    "from splot.esda import plot_local_autocorrelation"
   ]
  },
  {
   "cell_type": "code",
   "execution_count": null,
   "id": "chief-entrepreneur",
   "metadata": {
    "scrolled": true
   },
   "outputs": [],
   "source": [
    "plot_local_autocorrelation(moran_loc, full_sp, price)\n",
    "plt.show()"
   ]
  },
  {
   "cell_type": "code",
   "execution_count": 94,
   "id": "favorite-israel",
   "metadata": {},
   "outputs": [],
   "source": [
    "fig.savefig('SpatEc - Assignment 9 (Emil Mella Pablo).jpg', dpi=300)"
   ]
  },
  {
   "cell_type": "code",
   "execution_count": 74,
   "id": "executed-affiliation",
   "metadata": {},
   "outputs": [
    {
     "name": "stderr",
     "output_type": "stream",
     "text": [
      "/Users/emilmella/opt/anaconda3/envs/Lab2_AdvGIS/lib/python3.8/site-packages/pysal/explore/segregation/network/network.py:15: UserWarning: You need pandana and urbanaccess to work with segregation's network module\n",
      "You can install them with  `pip install urbanaccess pandana` or `conda install -c udst pandana urbanaccess`\n",
      "  warn(\n"
     ]
    }
   ],
   "source": [
    "from pysal.model import spreg"
   ]
  },
  {
   "cell_type": "code",
   "execution_count": 75,
   "id": "after-copper",
   "metadata": {},
   "outputs": [],
   "source": [
    "full_sp[\"tractfp\"] = full_sp[\"tractfp\"].astype('category')"
   ]
  },
  {
   "cell_type": "code",
   "execution_count": 76,
   "id": "frequent-storage",
   "metadata": {},
   "outputs": [
    {
     "name": "stdout",
     "output_type": "stream",
     "text": [
      "<class 'geopandas.geodataframe.GeoDataFrame'>\n",
      "Int64Index: 4086 entries, 0 to 4085\n",
      "Data columns (total 25 columns):\n",
      " #   Column         Non-Null Count  Dtype   \n",
      "---  ------         --------------  -----   \n",
      " 0   id             4086 non-null   int64   \n",
      " 1   c1_high        4086 non-null   float64 \n",
      " 2   c2_high        4086 non-null   float64 \n",
      " 3   c3_high        4086 non-null   float64 \n",
      " 4   c4_high        4086 non-null   float64 \n",
      " 5   water_diff     4086 non-null   float64 \n",
      " 6   pr_sq_ft       4086 non-null   float64 \n",
      " 7   fsid           4086 non-null   int64   \n",
      " 8   saleyear       4086 non-null   int64   \n",
      " 9   x_x            4086 non-null   float64 \n",
      " 10  y_x            4086 non-null   float64 \n",
      " 11  samp_pr05      4047 non-null   float64 \n",
      " 12  tractfp        4086 non-null   category\n",
      " 13  arealotacres   4086 non-null   float64 \n",
      " 14  areabuilding   4086 non-null   int64   \n",
      " 15  bedroomscount  4086 non-null   int64   \n",
      " 16  yearbuilt      4086 non-null   int64   \n",
      " 17  unitscount     4086 non-null   int64   \n",
      " 18  beachprox      4086 non-null   int64   \n",
      " 19  fld_zone       4086 non-null   object  \n",
      " 20  near_golf      4086 non-null   int64   \n",
      " 21  singfam        4086 non-null   int64   \n",
      " 22  x_y            4086 non-null   float64 \n",
      " 23  y_y            4086 non-null   float64 \n",
      " 24  geometry       4086 non-null   geometry\n",
      "dtypes: category(1), float64(12), geometry(1), int64(10), object(1)\n",
      "memory usage: 802.4+ KB\n"
     ]
    }
   ],
   "source": [
    "full_sp.info()"
   ]
  },
  {
   "cell_type": "code",
   "execution_count": 77,
   "id": "fifth-norwegian",
   "metadata": {},
   "outputs": [],
   "source": [
    "full_sp['years'] = full_sp['saleyear'] - 2005"
   ]
  },
  {
   "cell_type": "code",
   "execution_count": 78,
   "id": "consolidated-green",
   "metadata": {},
   "outputs": [],
   "source": [
    "full_sp['elev_wat_yr'] = full_sp['water_diff'] * full_sp['years']"
   ]
  },
  {
   "cell_type": "code",
   "execution_count": 79,
   "id": "played-applicant",
   "metadata": {},
   "outputs": [],
   "source": [
    "full_sp = full_sp.dropna(axis=0, how='any', thresh=None, subset=None, inplace=False)"
   ]
  },
  {
   "cell_type": "code",
   "execution_count": 80,
   "id": "removable-still",
   "metadata": {
    "scrolled": false
   },
   "outputs": [
    {
     "name": "stdout",
     "output_type": "stream",
     "text": [
      "<class 'geopandas.geodataframe.GeoDataFrame'>\n",
      "Int64Index: 4047 entries, 0 to 4085\n",
      "Data columns (total 27 columns):\n",
      " #   Column         Non-Null Count  Dtype   \n",
      "---  ------         --------------  -----   \n",
      " 0   id             4047 non-null   int64   \n",
      " 1   c1_high        4047 non-null   float64 \n",
      " 2   c2_high        4047 non-null   float64 \n",
      " 3   c3_high        4047 non-null   float64 \n",
      " 4   c4_high        4047 non-null   float64 \n",
      " 5   water_diff     4047 non-null   float64 \n",
      " 6   pr_sq_ft       4047 non-null   float64 \n",
      " 7   fsid           4047 non-null   int64   \n",
      " 8   saleyear       4047 non-null   int64   \n",
      " 9   x_x            4047 non-null   float64 \n",
      " 10  y_x            4047 non-null   float64 \n",
      " 11  samp_pr05      4047 non-null   float64 \n",
      " 12  tractfp        4047 non-null   category\n",
      " 13  arealotacres   4047 non-null   float64 \n",
      " 14  areabuilding   4047 non-null   int64   \n",
      " 15  bedroomscount  4047 non-null   int64   \n",
      " 16  yearbuilt      4047 non-null   int64   \n",
      " 17  unitscount     4047 non-null   int64   \n",
      " 18  beachprox      4047 non-null   int64   \n",
      " 19  fld_zone       4047 non-null   object  \n",
      " 20  near_golf      4047 non-null   int64   \n",
      " 21  singfam        4047 non-null   int64   \n",
      " 22  x_y            4047 non-null   float64 \n",
      " 23  y_y            4047 non-null   float64 \n",
      " 24  geometry       4047 non-null   geometry\n",
      " 25  years          4047 non-null   int64   \n",
      " 26  elev_wat_yr    4047 non-null   float64 \n",
      "dtypes: category(1), float64(13), geometry(1), int64(11), object(1)\n",
      "memory usage: 858.0+ KB\n"
     ]
    }
   ],
   "source": [
    "full_sp.info()"
   ]
  },
  {
   "cell_type": "code",
   "execution_count": 81,
   "id": "virtual-factor",
   "metadata": {},
   "outputs": [],
   "source": [
    "x = ['water_diff', 'samp_pr05', 'areabuilding', 'tractfp', 'yearbuilt', 'years', 'elev_wat_yr']"
   ]
  },
  {
   "cell_type": "code",
   "execution_count": 82,
   "id": "rubber-growth",
   "metadata": {},
   "outputs": [
    {
     "data": {
      "text/plain": [
       "['water_diff',\n",
       " 'samp_pr05',\n",
       " 'areabuilding',\n",
       " 'tractfp',\n",
       " 'yearbuilt',\n",
       " 'years',\n",
       " 'elev_wat_yr']"
      ]
     },
     "execution_count": 82,
     "metadata": {},
     "output_type": "execute_result"
    }
   ],
   "source": [
    "x"
   ]
  },
  {
   "cell_type": "code",
   "execution_count": 83,
   "id": "creative-worse",
   "metadata": {},
   "outputs": [],
   "source": [
    "model_ols = spreg.OLS(full_sp[['pr_sq_ft']].values, \n",
    "                      full_sp[x].values, \n",
    "                      name_y = 'pr_sq_ft', name_x = x)"
   ]
  },
  {
   "cell_type": "code",
   "execution_count": 149,
   "id": "extraordinary-accounting",
   "metadata": {},
   "outputs": [
    {
     "name": "stdout",
     "output_type": "stream",
     "text": [
      "REGRESSION\n",
      "----------\n",
      "SUMMARY OF OUTPUT: ORDINARY LEAST SQUARES\n",
      "-----------------------------------------\n",
      "Data set            :     unknown\n",
      "Weights matrix      :        None\n",
      "Dependent Variable  :    pr_sq_ft                Number of Observations:        4047\n",
      "Mean dependent var  :    153.4846                Number of Variables   :           8\n",
      "S.D. dependent var  :     66.8948                Degrees of Freedom    :        4039\n",
      "R-squared           :      0.0906\n",
      "Adjusted R-squared  :      0.0891\n",
      "Sum squared residual:16464311.298                F-statistic           :    250.4334\n",
      "Sigma-square        :    4076.334                Prob(F-statistic)     :    1.9e-310\n",
      "S.E. of regression  :      63.846                Log likelihood        :  -22559.701\n",
      "Sigma-square ML     :    4068.276                Akaike info criterion :   45135.402\n",
      "S.E of regression ML:     63.7830                Schwarz criterion     :   45185.848\n",
      "\n",
      "------------------------------------------------------------------------------------\n",
      "            Variable     Coefficient       Std.Error     t-Statistic     Probability\n",
      "------------------------------------------------------------------------------------\n",
      "            CONSTANT    -81390344.4947015    37163380.6011626      -2.1900684       0.0285763\n",
      "          water_diff      -0.4206105       0.0557205      -7.5485759       0.0000000\n",
      "           samp_pr05       0.5462438       0.0324684      16.8238705       0.0000000\n",
      "        areabuilding      -0.0018628       0.0003486      -5.3438255       0.0000001\n",
      "             tractfp       0.0033845       0.0015454       2.1900783       0.0285755\n",
      "           yearbuilt      -0.1282233       0.0539310      -2.3775433       0.0174747\n",
      "               years      -5.6939323       0.2801652     -20.3234808       0.0000000\n",
      "         elev_wat_yr       0.0370492       0.0071866       5.1553385       0.0000003\n",
      "------------------------------------------------------------------------------------\n",
      "\n",
      "REGRESSION DIAGNOSTICS\n",
      "MULTICOLLINEARITY CONDITION NUMBER    102993549.265\n",
      "\n",
      "TEST ON NORMALITY OF ERRORS\n",
      "TEST                             DF        VALUE           PROB\n",
      "Jarque-Bera                       2         469.671           0.0000\n",
      "\n",
      "DIAGNOSTICS FOR HETEROSKEDASTICITY\n",
      "RANDOM COEFFICIENTS\n",
      "TEST                             DF        VALUE           PROB\n",
      "Breusch-Pagan test                7         101.050           0.0000\n",
      "Koenker-Bassett test              7          58.353           0.0000\n",
      "================================ END OF REPORT =====================================\n"
     ]
    }
   ],
   "source": [
    "print(model_ols.summary)"
   ]
  },
  {
   "cell_type": "code",
   "execution_count": 84,
   "id": "ceramic-affiliate",
   "metadata": {},
   "outputs": [
    {
     "name": "stderr",
     "output_type": "stream",
     "text": [
      "/Users/emilmella/opt/anaconda3/envs/Lab2_AdvGIS/lib/python3.8/site-packages/pysal/model/spreg/user_output.py:456: UserWarning: w must be API-compatible pysal weights object\n",
      "  warn(\"w must be API-compatible pysal weights object\")\n"
     ]
    },
    {
     "ename": "Exception",
     "evalue": "y must be nx1, and w must be an nxn PySAL W object",
     "output_type": "error",
     "traceback": [
      "\u001b[0;31m---------------------------------------------------------------------------\u001b[0m",
      "\u001b[0;31mException\u001b[0m                                 Traceback (most recent call last)",
      "\u001b[0;32m<ipython-input-84-62d98e264e62>\u001b[0m in \u001b[0;36m<module>\u001b[0;34m\u001b[0m\n\u001b[0;32m----> 1\u001b[0;31m \u001b[0mmodel_sp\u001b[0m \u001b[0;34m=\u001b[0m \u001b[0mspreg\u001b[0m\u001b[0;34m.\u001b[0m\u001b[0mGM_Lag\u001b[0m\u001b[0;34m(\u001b[0m\u001b[0mfull_sp\u001b[0m\u001b[0;34m[\u001b[0m\u001b[0;34m[\u001b[0m\u001b[0;34m'pr_sq_ft'\u001b[0m\u001b[0;34m]\u001b[0m\u001b[0;34m]\u001b[0m\u001b[0;34m.\u001b[0m\u001b[0mvalues\u001b[0m\u001b[0;34m,\u001b[0m \u001b[0mfull_sp\u001b[0m\u001b[0;34m[\u001b[0m\u001b[0mx\u001b[0m\u001b[0;34m]\u001b[0m\u001b[0;34m.\u001b[0m\u001b[0mvalues\u001b[0m\u001b[0;34m,\u001b[0m \u001b[0mw\u001b[0m \u001b[0;34m=\u001b[0m \u001b[0mrange_dist\u001b[0m\u001b[0;34m,\u001b[0m \u001b[0mname_y\u001b[0m \u001b[0;34m=\u001b[0m \u001b[0;34m'pr_sq_ft'\u001b[0m\u001b[0;34m,\u001b[0m \u001b[0mname_x\u001b[0m \u001b[0;34m=\u001b[0m \u001b[0mx\u001b[0m\u001b[0;34m)\u001b[0m\u001b[0;34m\u001b[0m\u001b[0;34m\u001b[0m\u001b[0m\n\u001b[0m",
      "\u001b[0;32m~/opt/anaconda3/envs/Lab2_AdvGIS/lib/python3.8/site-packages/pysal/model/spreg/twosls_sp.py\u001b[0m in \u001b[0;36m__init__\u001b[0;34m(self, y, x, yend, q, w, w_lags, lag_q, robust, gwk, sig2n_k, spat_diag, vm, name_y, name_x, name_yend, name_q, name_w, name_gwk, name_ds)\u001b[0m\n\u001b[1;32m    465\u001b[0m         \u001b[0mn\u001b[0m \u001b[0;34m=\u001b[0m \u001b[0mUSER\u001b[0m\u001b[0;34m.\u001b[0m\u001b[0mcheck_arrays\u001b[0m\u001b[0;34m(\u001b[0m\u001b[0mx\u001b[0m\u001b[0;34m,\u001b[0m \u001b[0myend\u001b[0m\u001b[0;34m,\u001b[0m \u001b[0mq\u001b[0m\u001b[0;34m)\u001b[0m\u001b[0;34m\u001b[0m\u001b[0;34m\u001b[0m\u001b[0m\n\u001b[1;32m    466\u001b[0m         \u001b[0mUSER\u001b[0m\u001b[0;34m.\u001b[0m\u001b[0mcheck_y\u001b[0m\u001b[0;34m(\u001b[0m\u001b[0my\u001b[0m\u001b[0;34m,\u001b[0m \u001b[0mn\u001b[0m\u001b[0;34m)\u001b[0m\u001b[0;34m\u001b[0m\u001b[0;34m\u001b[0m\u001b[0m\n\u001b[0;32m--> 467\u001b[0;31m         \u001b[0mUSER\u001b[0m\u001b[0;34m.\u001b[0m\u001b[0mcheck_weights\u001b[0m\u001b[0;34m(\u001b[0m\u001b[0mw\u001b[0m\u001b[0;34m,\u001b[0m \u001b[0my\u001b[0m\u001b[0;34m,\u001b[0m \u001b[0mw_required\u001b[0m\u001b[0;34m=\u001b[0m\u001b[0;32mTrue\u001b[0m\u001b[0;34m)\u001b[0m\u001b[0;34m\u001b[0m\u001b[0;34m\u001b[0m\u001b[0m\n\u001b[0m\u001b[1;32m    468\u001b[0m         \u001b[0mUSER\u001b[0m\u001b[0;34m.\u001b[0m\u001b[0mcheck_robust\u001b[0m\u001b[0;34m(\u001b[0m\u001b[0mrobust\u001b[0m\u001b[0;34m,\u001b[0m \u001b[0mgwk\u001b[0m\u001b[0;34m)\u001b[0m\u001b[0;34m\u001b[0m\u001b[0;34m\u001b[0m\u001b[0m\n\u001b[1;32m    469\u001b[0m         \u001b[0myend2\u001b[0m\u001b[0;34m,\u001b[0m \u001b[0mq2\u001b[0m \u001b[0;34m=\u001b[0m \u001b[0mset_endog\u001b[0m\u001b[0;34m(\u001b[0m\u001b[0my\u001b[0m\u001b[0;34m,\u001b[0m \u001b[0mx\u001b[0m\u001b[0;34m,\u001b[0m \u001b[0mw\u001b[0m\u001b[0;34m,\u001b[0m \u001b[0myend\u001b[0m\u001b[0;34m,\u001b[0m \u001b[0mq\u001b[0m\u001b[0;34m,\u001b[0m \u001b[0mw_lags\u001b[0m\u001b[0;34m,\u001b[0m \u001b[0mlag_q\u001b[0m\u001b[0;34m)\u001b[0m\u001b[0;34m\u001b[0m\u001b[0;34m\u001b[0m\u001b[0m\n",
      "\u001b[0;32m~/opt/anaconda3/envs/Lab2_AdvGIS/lib/python3.8/site-packages/pysal/model/spreg/user_output.py\u001b[0m in \u001b[0;36mcheck_weights\u001b[0;34m(w, y, w_required)\u001b[0m\n\u001b[1;32m    456\u001b[0m             \u001b[0mwarn\u001b[0m\u001b[0;34m(\u001b[0m\u001b[0;34m\"w must be API-compatible pysal weights object\"\u001b[0m\u001b[0;34m)\u001b[0m\u001b[0;34m\u001b[0m\u001b[0;34m\u001b[0m\u001b[0m\n\u001b[1;32m    457\u001b[0m         \u001b[0;32mif\u001b[0m \u001b[0mw\u001b[0m\u001b[0;34m.\u001b[0m\u001b[0mn\u001b[0m \u001b[0;34m!=\u001b[0m \u001b[0my\u001b[0m\u001b[0;34m.\u001b[0m\u001b[0mshape\u001b[0m\u001b[0;34m[\u001b[0m\u001b[0;36m0\u001b[0m\u001b[0;34m]\u001b[0m\u001b[0;34m:\u001b[0m\u001b[0;34m\u001b[0m\u001b[0;34m\u001b[0m\u001b[0m\n\u001b[0;32m--> 458\u001b[0;31m             \u001b[0;32mraise\u001b[0m \u001b[0mException\u001b[0m\u001b[0;34m(\u001b[0m\u001b[0;34m\"y must be nx1, and w must be an nxn PySAL W object\"\u001b[0m\u001b[0;34m)\u001b[0m\u001b[0;34m\u001b[0m\u001b[0;34m\u001b[0m\u001b[0m\n\u001b[0m\u001b[1;32m    459\u001b[0m         \u001b[0mdiag\u001b[0m \u001b[0;34m=\u001b[0m \u001b[0mw\u001b[0m\u001b[0;34m.\u001b[0m\u001b[0msparse\u001b[0m\u001b[0;34m.\u001b[0m\u001b[0mdiagonal\u001b[0m\u001b[0;34m(\u001b[0m\u001b[0;34m)\u001b[0m\u001b[0;34m\u001b[0m\u001b[0;34m\u001b[0m\u001b[0m\n\u001b[1;32m    460\u001b[0m         \u001b[0;31m# check to make sure all entries equal 0\u001b[0m\u001b[0;34m\u001b[0m\u001b[0;34m\u001b[0m\u001b[0;34m\u001b[0m\u001b[0m\n",
      "\u001b[0;31mException\u001b[0m: y must be nx1, and w must be an nxn PySAL W object"
     ]
    }
   ],
   "source": [
    "model_sp = spreg.GM_Lag(full_sp[['pr_sq_ft']].values, full_sp[x].values, w = range_dist, name_y = 'pr_sq_ft', name_x = x)"
   ]
  },
  {
   "cell_type": "code",
   "execution_count": 85,
   "id": "cloudy-vintage",
   "metadata": {},
   "outputs": [
    {
     "ename": "NameError",
     "evalue": "name 'model_sp' is not defined",
     "output_type": "error",
     "traceback": [
      "\u001b[0;31m---------------------------------------------------------------------------\u001b[0m",
      "\u001b[0;31mNameError\u001b[0m                                 Traceback (most recent call last)",
      "\u001b[0;32m<ipython-input-85-2207fc83920b>\u001b[0m in \u001b[0;36m<module>\u001b[0;34m\u001b[0m\n\u001b[0;32m----> 1\u001b[0;31m \u001b[0mprint\u001b[0m\u001b[0;34m(\u001b[0m\u001b[0mmodel_sp\u001b[0m\u001b[0;34m.\u001b[0m\u001b[0msummary\u001b[0m\u001b[0;34m)\u001b[0m\u001b[0;34m\u001b[0m\u001b[0;34m\u001b[0m\u001b[0m\n\u001b[0m",
      "\u001b[0;31mNameError\u001b[0m: name 'model_sp' is not defined"
     ]
    }
   ],
   "source": [
    "print(model_sp.summary)"
   ]
  },
  {
   "cell_type": "code",
   "execution_count": null,
   "id": "synthetic-singapore",
   "metadata": {},
   "outputs": [],
   "source": []
  }
 ],
 "metadata": {
  "kernelspec": {
   "display_name": "Python 3",
   "language": "python",
   "name": "python3"
  },
  "language_info": {
   "codemirror_mode": {
    "name": "ipython",
    "version": 3
   },
   "file_extension": ".py",
   "mimetype": "text/x-python",
   "name": "python",
   "nbconvert_exporter": "python",
   "pygments_lexer": "ipython3",
   "version": "3.8.2"
  }
 },
 "nbformat": 4,
 "nbformat_minor": 5
}
